{
 "cells": [
  {
   "cell_type": "code",
   "execution_count": 7,
   "metadata": {},
   "outputs": [],
   "source": [
    "import folium\n",
    "import requests\n",
    "import json\n"
   ]
  },
  {
   "cell_type": "markdown",
   "metadata": {},
   "source": [
    "# Kloak"
   ]
  },
  {
   "cell_type": "code",
   "execution_count": 3,
   "metadata": {},
   "outputs": [
    {
     "name": "stdout",
     "output_type": "stream",
     "text": [
      "Kloakopland Information:\n",
      "{'type': 'FeatureCollection', 'features': [{'type': 'Feature', 'id': 'theme_pdk_kloakopland_vedtaget_v.c8abefea796f11e5b71900000a1e0542', 'geometry': {'type': 'MultiPolygon', 'coordinates': [[[[12.531316849, 55.6954594916], [12.534075546, 55.6948045683], [12.5348236132, 55.6944503202], [12.535745186, 55.693902241], [12.535912848, 55.6931151345], [12.5355959248, 55.6926027557], [12.535806685, 55.6919402898], [12.5376923562, 55.6899077483], [12.5380238, 55.6897003706], [12.5382721456, 55.6896302643], [12.5406046625, 55.6884929389], [12.5411747756, 55.6877571448], [12.5421270427, 55.6871991355], [12.5442434761, 55.6864905866], [12.5464535115, 55.6854106338], [12.5468104974, 55.6853103926], [12.5474389716, 55.6852202805], [12.5531065035, 55.6848853587], [12.5536523276, 55.6847616422], [12.5548355349, 55.6842957463], [12.5552726506, 55.6838514717], [12.553684828, 55.6816135997], [12.554183801, 55.6815002295], [12.5573416955, 55.6817503455], [12.5551797111, 55.673540657], [12.5541074981, 55.6734728327], [12.5499577406, 55.6743843207], [12.5500037834, 55.6736636507], [12.5498601434, 55.6736588178], [12.5499485263, 55.6727031374], [12.5497548431, 55.6726727781], [12.5483994082, 55.6729907553], [12.5475314646, 55.673069821], [12.5472836734, 55.6729690897], [12.5468400834, 55.6733415905], [12.5473271119, 55.6736242272], [12.5470662635, 55.6737306824], [12.5469083784, 55.6737442414], [12.5467020717, 55.6737502092], [12.546456715, 55.6736763809], [12.5461168888, 55.6739649522], [12.5459614389, 55.6740054147], [12.5454352969, 55.6739936545], [12.545397873, 55.6739317948], [12.5446409908, 55.6740076281], [12.5446226854, 55.6739811822], [12.5439292803, 55.674055176], [12.5438230608, 55.6741121962], [12.5435072849, 55.6741393058], [12.5435264013, 55.6741747201], [12.5421729395, 55.6743397112], [12.5420326435, 55.6740200635], [12.5416391395, 55.674067397], [12.5417131648, 55.6741821507], [12.5413823277, 55.6742186816], [12.5413074923, 55.6740949594], [12.540630759, 55.6741774446], [12.5407064035, 55.6743101354], [12.5403438241, 55.6743475801], [12.54026737, 55.6742059207], [12.5395731409, 55.6742709218], [12.5399163679, 55.6748994221], [12.5393975107, 55.6749683505], [12.5393401716, 55.6748621056], [12.5384571057, 55.6749505342], [12.5382172262, 55.6744089646], [12.5365931271, 55.6745727112], [12.536671999, 55.6747412778], [12.534575814, 55.6749635713], [12.5327375787, 55.6752233552], [12.5325045603, 55.6749333442], [12.5314651967, 55.6750531998], [12.5313534903, 55.6746967512], [12.5305973712, 55.6747814668], [12.5302535802, 55.6746744741], [12.5301577562, 55.6743175673], [12.5299998621, 55.6743311047], [12.5299072754, 55.6740100711], [12.5292606407, 55.6740736433], [12.5291513823, 55.6737440975], [12.5284262083, 55.6738189176], [12.5275726849, 55.673528769], [12.5271960783, 55.6732338878], [12.5268484608, 55.672200858], [12.5242770676, 55.6724456362], [12.5239903444, 55.6727955588], [12.5233746514, 55.6728492192], [12.5230986779, 55.6729650486], [12.5229679522, 55.673103679], [12.5230074892, 55.6735431322], [12.5228802561, 55.6738974609], [12.5215132567, 55.6740895862], [12.5225436924, 55.6775846998], [12.5209917473, 55.6778450713], [12.5215490956, 55.6790878911], [12.5218414994, 55.6798617632], [12.5242371992, 55.6801346156], [12.5242463551, 55.6804130925], [12.5244672356, 55.6805685933], [12.5261675752, 55.6812480323], [12.5245740755, 55.6814017427], [12.5233386547, 55.6816440521], [12.5232878058, 55.6816095466], [12.5182601502, 55.6825091891], [12.5183699027, 55.6826678889], [12.5125880719, 55.6836788456], [12.5127940793, 55.684023616], [12.5124496691, 55.6840874305], [12.512182581, 55.6837713837], [12.5093280077, 55.684239742], [12.5078464386, 55.6845788514], [12.507951735, 55.6843330675], [12.5033296854, 55.6851485509], [12.5019288352, 55.6853234339], [12.5012644831, 55.6853693776], [12.5003095621, 55.6853696623], [12.4992290815, 55.6852116748], [12.4987257264, 55.6851001549], [12.49697645, 55.6844037525], [12.496659604, 55.6842419483], [12.4962553758, 55.6839927194], [12.4952760342, 55.6831844257], [12.4950116329, 55.6830750718], [12.4945544774, 55.6831240658], [12.4946870778, 55.6831832277], [12.4950199228, 55.683524411], [12.4952900755, 55.6838763718], [12.4955722473, 55.6843628621], [12.4957414092, 55.6844749299], [12.495751822, 55.6845915227], [12.4959312532, 55.6846403569], [12.495939919, 55.6845591862], [12.4960375721, 55.684583377], [12.4959667171, 55.684324643], [12.4958705216, 55.6841385635], [12.495994316, 55.6840990685], [12.4983052691, 55.6853818952], [12.4980640891, 55.6855326391], [12.4986311077, 55.6858221759], [12.498952945, 55.6862176124], [12.4999502286, 55.6865128499], [12.5004330835, 55.6867508315], [12.5011398113, 55.6870004034], [12.5024376974, 55.6878085479], [12.5040242595, 55.6882847366], [12.5060552094, 55.6885683713], [12.5067435216, 55.6886116327], [12.5086205654, 55.6889535753], [12.5104339213, 55.6891174814], [12.5141606528, 55.6900268], [12.515389854, 55.6902433368], [12.5161015725, 55.6905466311], [12.5161610516, 55.690499968], [12.5164922932, 55.6906433278], [12.5174976329, 55.6908482792], [12.5203182846, 55.6924757509], [12.5211250676, 55.6931269606], [12.5213438526, 55.693435385], [12.5218683645, 55.6937799884], [12.5220648224, 55.6940171199], [12.5233264938, 55.6945923112], [12.5249835561, 55.6951381438], [12.526266269, 55.6954159781], [12.5283103809, 55.6956629069], [12.531316849, 55.6954594916]]]]}, 'geometry_name': 'geometri', 'properties': {'uuid': 'c8abefea796f11e5b71900000a1e0542', 'temakode': 1201, 'temanavn': 'Kloakoplande', 'objekt_id': 3018245, 'systid_fra': '2015-10-23T10:21:11.971Z', 'systid_til': None, 'oprettet': '2015-10-23T10:21:11.971Z', 'oprindkode': 0, 'oprindelse': 'Ikke udfyldt', 'statuskode': 3, 'status': 'Vedtaget', 'komnr': 147, 'cvr_kode': '11259979', 'cvrname': 'Frederiksberg kommune', 'bruger_id': '147', 'link': None, 'navn1201': 'Opland 2', 'type1201a': 1, 'vaerd1201a': 'Fælleskloakeret (spildevand og overfladevand løber i samme ledning)', 'type1201b': 1, 'vaerd1201b': 'Fælleskloakeret (spildevand og overfladevand løber i samme ledning)', 'staar1201': 0, 'sluaar1201': 1950, 'datoforsl': None, 'datovedt': None, 'datoaflyst': None, 'datoikraft': None, 'datostart': None, 'datoslut': None, 'doklink': None}}], 'totalFeatures': 'unknown', 'numberReturned': 1, 'timeStamp': '2024-09-12T11:28:29.611Z', 'crs': {'type': 'name', 'properties': {'name': 'urn:ogc:def:crs:EPSG::4326'}}}\n"
     ]
    }
   ],
   "source": [
    "\n",
    "\n",
    "# WMS service URL for kloakopland (sewer areas)\n",
    "wms_url = 'https://geoserver.plandata.dk/geoserver/ows'\n",
    "\n",
    "\n",
    "# WMS GetFeatureInfo request to retrieve information about the specific coordinates\n",
    "params = {\n",
    "    'service': 'WMS',\n",
    "    'request': 'GetFeatureInfo',\n",
    "    'version': '1.1.1',\n",
    "    'layers': 'pdk:theme_pdk_kloakopland_vedtaget_v',\n",
    "    'query_layers': 'pdk:theme_pdk_kloakopland_vedtaget_v',\n",
    "    'styles': '',\n",
    "    'bbox': f'{12.523999770273754 - 0.005},{55.689685782236864 - 0.005},{12.523999770273754 + 0.005},{55.689685782236864 + 0.005}',  # Set bounding box\n",
    "    'width': '256',\n",
    "    'height': '256',\n",
    "    'x': '128',\n",
    "    'y': '128',\n",
    "    'srs': 'EPSG:4326',\n",
    "    'format': 'image/png',\n",
    "    'info_format': 'application/json',\n",
    "    'i': '50',  # Pixel coordinates of the point (50% of 256)\n",
    "    'j': '50'\n",
    "}\n",
    "\n",
    "response = requests.get(wms_url, params=params)\n",
    "\n",
    "# Parse the result and display the relevant information\n",
    "if response.status_code == 200:\n",
    "    kloak_data = response.json()\n",
    "    print(\"Kloakopland Information:\")\n",
    "    print(kloak_data)\n",
    "else:\n",
    "    print(\"Failed to retrieve information from WMS server\")\n",
    "\n",
    "\n"
   ]
  },
  {
   "cell_type": "code",
   "execution_count": 10,
   "metadata": {},
   "outputs": [
    {
     "name": "stdout",
     "output_type": "stream",
     "text": [
      "UUID: bf2c140c56f342438647f740186e01f3\n",
      "Tema Navn: Kloakoplande\n",
      "Municipality: Hvidovre kommune\n",
      "Kloakområde: 402b\n",
      "Kloak Type A: Fælleskloakeret (spildevand og overfladevand løber i samme ledning)\n",
      "Kloak Type B: Fælleskloakeret (spildevand og overfladevand løber i samme ledning)\n",
      "Status: Vedtaget\n",
      "Year Established: 1800\n"
     ]
    }
   ],
   "source": [
    "# Function to query each location\n",
    "def kloak_information(latitude, longitude):\n",
    "    wms_url = 'https://geoserver.plandata.dk/geoserver/ows'\n",
    "    params = {\n",
    "    'service': 'WMS',\n",
    "    'request': 'GetFeatureInfo',\n",
    "    'version': '1.1.1',\n",
    "    'layers': 'pdk:theme_pdk_kloakopland_vedtaget_v',\n",
    "    'query_layers': 'pdk:theme_pdk_kloakopland_vedtaget_v',\n",
    "    'styles': '',\n",
    "    'bbox': f'{longitude - 0.005},{latitude - 0.005},{longitude + 0.005},{latitude + 0.005}',  # Set bounding box\n",
    "    'width': '256',\n",
    "    'height': '256',\n",
    "    'x': '128',\n",
    "    'y': '128',\n",
    "    'srs': 'EPSG:4326',\n",
    "    'format': 'image/png',\n",
    "    'info_format': 'application/json',\n",
    "    'i': '50',  # Pixel coordinates of the point (50% of 256)\n",
    "    'j': '50'\n",
    "}\n",
    "    response = requests.get(wms_url, params=params)\n",
    "    if response.status_code == 200:\n",
    "        data = json.loads(response.text)\n",
    "        for feature in data['features']:\n",
    "            properties = feature['properties']\n",
    "            uuid = properties.get('uuid')\n",
    "            tema_navn = properties.get('temanavn')\n",
    "            kommune = properties.get('cvrname')\n",
    "            kloak_område = properties.get('navn1201')\n",
    "            kloak_type_a = properties.get('vaerd1201a')\n",
    "            kloak_type_b = properties.get('vaerd1201b')\n",
    "            status = properties.get('status')\n",
    "            year_established = properties.get('sluaar1201')\n",
    "\n",
    "            # Display the extracted information\n",
    "            print(f\"UUID: {uuid}\")\n",
    "            print(f\"Tema Navn: {tema_navn}\")\n",
    "            print(f\"Municipality: {kommune}\")\n",
    "            print(f\"Kloakområde: {kloak_område}\")\n",
    "            print(f\"Kloak Type A: {kloak_type_a}\")\n",
    "            print(f\"Kloak Type B: {kloak_type_b}\")\n",
    "            print(f\"Status: {status}\")\n",
    "            print(f\"Year Established: {year_established}\")\n",
    "            return {\n",
    "                'UUID': uuid,\n",
    "                'Tema Navn': tema_navn,\n",
    "                'Kommune': kommune,\n",
    "                'Kloakområde': kloak_område,\n",
    "                'Kloak Type A': kloak_type_a,\n",
    "                'Kloak Type B': kloak_type_b,\n",
    "                'Status': status,\n",
    "                'Year Established': year_established\n",
    "            }\n",
    "    else:\n",
    "        return None\n",
    "    \n",
    "data = kloak_information(55.63302775325665, 12.477887846549491)"
   ]
  },
  {
   "cell_type": "markdown",
   "metadata": {},
   "source": [
    "# HAVVAND"
   ]
  },
  {
   "cell_type": "code",
   "execution_count": 25,
   "metadata": {},
   "outputs": [
    {
     "name": "stdout",
     "output_type": "stream",
     "text": [
      "<?xml version=\"1.0\" encoding=\"UTF-8\"?>\n",
      "\n",
      "<msGMLOutput \n",
      "\t xmlns:gml=\"http://www.opengis.net/gml\"\n",
      "\t xmlns:xlink=\"http://www.w3.org/1999/xlink\"\n",
      "\t xmlns:xsi=\"http://www.w3.org/2001/XMLSchema-instance\">\n",
      "\t<dhm_havvandpaaland_layer>\n",
      "\t<gml:name>dhm_havvandpaaland</gml:name>\n",
      "\t\t<dhm_havvandpaaland_feature>\n",
      "\t\t\t<gml:boundedBy>\n",
      "\t\t\t\t<gml:Box srsName=\"EPSG:4326\">\n",
      "\t\t\t\t\t<gml:coordinates>12.588170,55.674234 12.588170,55.674234</gml:coordinates>\n",
      "\t\t\t\t</gml:Box>\n",
      "\t\t\t</gml:boundedBy>\n",
      "\t\t\t<x>12.58817</x>\n",
      "\t\t\t<y>55.674234</y>\n",
      "\t\t\t<value_0>4.4791594</value_0>\n",
      "\t\t\t<value_list>4.4791594</value_list>\n",
      "\t\t\t<class>havvandpaaland_6</class>\n",
      "\t\t\t<red>-1</red>\n",
      "\t\t\t<green>-1</green>\n",
      "\t\t\t<blue>-1</blue>\n",
      "\t\t</dhm_havvandpaaland_feature>\n",
      "\t</dhm_havvandpaaland_layer>\n",
      "</msGMLOutput>\n",
      "\n"
     ]
    }
   ],
   "source": [
    "import requests\n",
    "\n",
    "# Coordinates for the point\n",
    "latitude = 55.67425422778244\n",
    "longitude = 12.58815144915615\n",
    "\n",
    "# Bounding box around the point (adjusted to cover a small area)\n",
    "bbox = f\"{longitude - 0.005},{latitude - 0.005},{longitude + 0.005},{latitude + 0.005}\"\n",
    "\n",
    "# Define the WMS GetFeatureInfo request URL and parameters\n",
    "params = {\n",
    "    'service': 'WMS',\n",
    "    'request': 'GetFeatureInfo',\n",
    "    'version': '1.1.1',\n",
    "    'layers': 'dhm_havvandpaaland',\n",
    "    'query_layers': 'dhm_havvandpaaland',\n",
    "    'styles': 'havvandpaaland_6',\n",
    "    'bbox': bbox,  # Set bounding box\n",
    "    'width': '256',\n",
    "    'height': '256',\n",
    "    'x': '128',\n",
    "    'y': '128',\n",
    "    'srs': 'EPSG:4326',\n",
    "    'format': 'image/png',\n",
    "    'info_format': 'application/vnd.ogc.gml',  # Use GML instead of JSON\n",
    "    'i': '50',\n",
    "    'j': '50'\n",
    "}\n",
    "\n",
    "# Send the GetFeatureInfo request to the WMS server\n",
    "response = requests.get(wms_url, params=params)\n",
    "print(response.text)\n",
    "\n"
   ]
  },
  {
   "cell_type": "code",
   "execution_count": 26,
   "metadata": {},
   "outputs": [
    {
     "name": "stdout",
     "output_type": "stream",
     "text": [
      "https://api.dataforsyningen.dk/dhm?service=WMS&request=GetCapabilities&token=30494b8c7d48e71467a3bca51afaf457\n"
     ]
    }
   ],
   "source": [
    "print(wms_url)"
   ]
  },
  {
   "cell_type": "code",
   "execution_count": null,
   "metadata": {},
   "outputs": [
    {
     "name": "stdout",
     "output_type": "stream",
     "text": [
      "Laveste havniveau: havvandpaaland_3_4\n"
     ]
    },
    {
     "data": {
      "text/plain": [
       "'Laveste havniveau: havvandpaaland_3_4'"
      ]
     },
     "execution_count": 40,
     "metadata": {},
     "output_type": "execute_result"
    }
   ],
   "source": [
    "import requests\n",
    "import xml.etree.ElementTree as ET\n",
    "\n",
    "# Coordinates for the point\n",
    "latitude = 55.67425422778244\n",
    "longitude = 12.58815144915615\n",
    "\n",
    "def havvand(latitude, longitude):\n",
    "    # Bounding box around the point (adjusted to cover a small area)\n",
    "    bbox = f\"{longitude - 0.005},{latitude - 0.005},{longitude + 0.005},{latitude + 0.005}\"\n",
    "\n",
    "    wms_url='https://api.dataforsyningen.dk/dhm?service=WMS&request=GetCapabilities&token=30494b8c7d48e71467a3bca51afaf457'\n",
    "\n",
    "    styles = [\n",
    "        'havvandpaaland_6', 'havvandpaaland_5_9', 'havvandpaaland_5_8', 'havvandpaaland_5_7',\n",
    "        'havvandpaaland_5_6', 'havvandpaaland_5_5', 'havvandpaaland_5_4', 'havvandpaaland_5_3',\n",
    "        'havvandpaaland_5_2', 'havvandpaaland_5_1', 'havvandpaaland_5', 'havvandpaaland_4_9',\n",
    "        'havvandpaaland_4_8', 'havvandpaaland_4_7', 'havvandpaaland_4_6', 'havvandpaaland_4_5',\n",
    "        'havvandpaaland_4_4', 'havvandpaaland_4_3', 'havvandpaaland_4_2', 'havvandpaaland_4_1',\n",
    "        'havvandpaaland_4', 'havvandpaaland_3_9', 'havvandpaaland_3_8', 'havvandpaaland_3_7',\n",
    "        'havvandpaaland_3_6', 'havvandpaaland_3_5', 'havvandpaaland_3_4', 'havvandpaaland_3_3',\n",
    "        'havvandpaaland_3_2', 'havvandpaaland_3_1', 'havvandpaaland_3', 'havvandpaaland_2_9',\n",
    "        'havvandpaaland_2_8', 'havvandpaaland_2_7', 'havvandpaaland_2_6', 'havvandpaaland_2_5',\n",
    "        'havvandpaaland_2_4', 'havvandpaaland_2_3', 'havvandpaaland_2_2', 'havvandpaaland_2_1',\n",
    "        'havvandpaaland_2_0', 'havvandpaaland_1_9', 'havvandpaaland_1_8', 'havvandpaaland_1_7',\n",
    "        'havvandpaaland_1_6', 'havvandpaaland_1_5', 'havvandpaaland_1_4', 'havvandpaaland_1_3',\n",
    "        'havvandpaaland_1_2', 'havvandpaaland_1_1', 'havvandpaaland_1', 'havvandpaaland_0_9',\n",
    "        'havvandpaaland_0_8', 'havvandpaaland_0_7', 'havvandpaaland_0_6', 'havvandpaaland_0_5',\n",
    "        'havvandpaaland_0_4', 'havvandpaaland_0_3', 'havvandpaaland_0_2', 'havvandpaaland_0_1',\n",
    "        'havvandpaaland_0'\n",
    "    ]\n",
    "\n",
    "    for style in styles:\n",
    "\n",
    "\n",
    "        # Define the WMS GetFeatureInfo request URL and parameters\n",
    "        params = {\n",
    "            'service': 'WMS',\n",
    "            'request': 'GetFeatureInfo',\n",
    "            'version': '1.1.1',\n",
    "            'layers': 'dhm_havvandpaaland',\n",
    "            'query_layers': 'dhm_havvandpaaland',\n",
    "            'styles': style,\n",
    "            'bbox': bbox,  # Set bounding box\n",
    "            'width': '256',\n",
    "            'height': '256',\n",
    "            'x': '128',\n",
    "            'y': '128',\n",
    "            'srs': 'EPSG:4326',\n",
    "            'format': 'image/png',\n",
    "            'info_format': 'application/vnd.ogc.gml',  # Use GML instead of JSON\n",
    "            'i': '50',\n",
    "            'j': '50'\n",
    "        }\n",
    "\n",
    "        # Send the GetFeatureInfo request to the WMS server\n",
    "        response = requests.get(wms_url, params=params)\n",
    "        # Parse the XML data\n",
    "        root = ET.fromstring(response.text)\n",
    "\n",
    "        # Find the value_0 element\n",
    "        value_0_element = root.find('.//value_0')\n",
    "\n",
    "    \n",
    "        if value_0_element is not None and value_0_element.text is not None:\n",
    "            value_0 = value_0_element.text\n",
    "            #print(f'style: {style}, Value 0: {value_0}')\n",
    "        else:\n",
    "            print((f'Laveste havniveau: {style}'))\n",
    "            return (f'Laveste havniveau: {style}')\n",
    "\n",
    "havvand(latitude, longitude)\n",
    "\n"
   ]
  },
  {
   "cell_type": "code",
   "execution_count": 22,
   "metadata": {},
   "outputs": [
    {
     "ename": "JSONDecodeError",
     "evalue": "Expecting value: line 1 column 1 (char 0)",
     "output_type": "error",
     "traceback": [
      "\u001b[1;31m---------------------------------------------------------------------------\u001b[0m",
      "\u001b[1;31mJSONDecodeError\u001b[0m                           Traceback (most recent call last)",
      "File \u001b[1;32mc:\\Python311\\Lib\\site-packages\\requests\\models.py:960\u001b[0m, in \u001b[0;36mResponse.json\u001b[1;34m(self, **kwargs)\u001b[0m\n\u001b[0;32m    959\u001b[0m \u001b[38;5;28;01mtry\u001b[39;00m:\n\u001b[1;32m--> 960\u001b[0m     \u001b[38;5;28;01mreturn\u001b[39;00m \u001b[43mcomplexjson\u001b[49m\u001b[38;5;241;43m.\u001b[39;49m\u001b[43mloads\u001b[49m\u001b[43m(\u001b[49m\u001b[38;5;28;43mself\u001b[39;49m\u001b[38;5;241;43m.\u001b[39;49m\u001b[43mcontent\u001b[49m\u001b[38;5;241;43m.\u001b[39;49m\u001b[43mdecode\u001b[49m\u001b[43m(\u001b[49m\u001b[43mencoding\u001b[49m\u001b[43m)\u001b[49m\u001b[43m,\u001b[49m\u001b[43m \u001b[49m\u001b[38;5;241;43m*\u001b[39;49m\u001b[38;5;241;43m*\u001b[39;49m\u001b[43mkwargs\u001b[49m\u001b[43m)\u001b[49m\n\u001b[0;32m    961\u001b[0m \u001b[38;5;28;01mexcept\u001b[39;00m \u001b[38;5;167;01mUnicodeDecodeError\u001b[39;00m:\n\u001b[0;32m    962\u001b[0m     \u001b[38;5;66;03m# Wrong UTF codec detected; usually because it's not UTF-8\u001b[39;00m\n\u001b[0;32m    963\u001b[0m     \u001b[38;5;66;03m# but some other 8-bit codec.  This is an RFC violation,\u001b[39;00m\n\u001b[0;32m    964\u001b[0m     \u001b[38;5;66;03m# and the server didn't bother to tell us what codec *was*\u001b[39;00m\n\u001b[0;32m    965\u001b[0m     \u001b[38;5;66;03m# used.\u001b[39;00m\n",
      "File \u001b[1;32mc:\\Python311\\Lib\\site-packages\\simplejson\\__init__.py:514\u001b[0m, in \u001b[0;36mloads\u001b[1;34m(s, encoding, cls, object_hook, parse_float, parse_int, parse_constant, object_pairs_hook, use_decimal, allow_nan, **kw)\u001b[0m\n\u001b[0;32m    510\u001b[0m \u001b[38;5;28;01mif\u001b[39;00m (\u001b[38;5;28mcls\u001b[39m \u001b[38;5;129;01mis\u001b[39;00m \u001b[38;5;28;01mNone\u001b[39;00m \u001b[38;5;129;01mand\u001b[39;00m encoding \u001b[38;5;129;01mis\u001b[39;00m \u001b[38;5;28;01mNone\u001b[39;00m \u001b[38;5;129;01mand\u001b[39;00m object_hook \u001b[38;5;129;01mis\u001b[39;00m \u001b[38;5;28;01mNone\u001b[39;00m \u001b[38;5;129;01mand\u001b[39;00m\n\u001b[0;32m    511\u001b[0m         parse_int \u001b[38;5;129;01mis\u001b[39;00m \u001b[38;5;28;01mNone\u001b[39;00m \u001b[38;5;129;01mand\u001b[39;00m parse_float \u001b[38;5;129;01mis\u001b[39;00m \u001b[38;5;28;01mNone\u001b[39;00m \u001b[38;5;129;01mand\u001b[39;00m\n\u001b[0;32m    512\u001b[0m         parse_constant \u001b[38;5;129;01mis\u001b[39;00m \u001b[38;5;28;01mNone\u001b[39;00m \u001b[38;5;129;01mand\u001b[39;00m object_pairs_hook \u001b[38;5;129;01mis\u001b[39;00m \u001b[38;5;28;01mNone\u001b[39;00m\n\u001b[0;32m    513\u001b[0m         \u001b[38;5;129;01mand\u001b[39;00m \u001b[38;5;129;01mnot\u001b[39;00m use_decimal \u001b[38;5;129;01mand\u001b[39;00m \u001b[38;5;129;01mnot\u001b[39;00m allow_nan \u001b[38;5;129;01mand\u001b[39;00m \u001b[38;5;129;01mnot\u001b[39;00m kw):\n\u001b[1;32m--> 514\u001b[0m     \u001b[38;5;28;01mreturn\u001b[39;00m \u001b[43m_default_decoder\u001b[49m\u001b[38;5;241;43m.\u001b[39;49m\u001b[43mdecode\u001b[49m\u001b[43m(\u001b[49m\u001b[43ms\u001b[49m\u001b[43m)\u001b[49m\n\u001b[0;32m    515\u001b[0m \u001b[38;5;28;01mif\u001b[39;00m \u001b[38;5;28mcls\u001b[39m \u001b[38;5;129;01mis\u001b[39;00m \u001b[38;5;28;01mNone\u001b[39;00m:\n",
      "File \u001b[1;32mc:\\Python311\\Lib\\site-packages\\simplejson\\decoder.py:386\u001b[0m, in \u001b[0;36mJSONDecoder.decode\u001b[1;34m(self, s, _w, _PY3)\u001b[0m\n\u001b[0;32m    385\u001b[0m     s \u001b[38;5;241m=\u001b[39m \u001b[38;5;28mstr\u001b[39m(s, \u001b[38;5;28mself\u001b[39m\u001b[38;5;241m.\u001b[39mencoding)\n\u001b[1;32m--> 386\u001b[0m obj, end \u001b[38;5;241m=\u001b[39m \u001b[38;5;28;43mself\u001b[39;49m\u001b[38;5;241;43m.\u001b[39;49m\u001b[43mraw_decode\u001b[49m\u001b[43m(\u001b[49m\u001b[43ms\u001b[49m\u001b[43m)\u001b[49m\n\u001b[0;32m    387\u001b[0m end \u001b[38;5;241m=\u001b[39m _w(s, end)\u001b[38;5;241m.\u001b[39mend()\n",
      "File \u001b[1;32mc:\\Python311\\Lib\\site-packages\\simplejson\\decoder.py:416\u001b[0m, in \u001b[0;36mJSONDecoder.raw_decode\u001b[1;34m(self, s, idx, _w, _PY3)\u001b[0m\n\u001b[0;32m    415\u001b[0m         idx \u001b[38;5;241m+\u001b[39m\u001b[38;5;241m=\u001b[39m \u001b[38;5;241m3\u001b[39m\n\u001b[1;32m--> 416\u001b[0m \u001b[38;5;28;01mreturn\u001b[39;00m \u001b[38;5;28;43mself\u001b[39;49m\u001b[38;5;241;43m.\u001b[39;49m\u001b[43mscan_once\u001b[49m\u001b[43m(\u001b[49m\u001b[43ms\u001b[49m\u001b[43m,\u001b[49m\u001b[43m \u001b[49m\u001b[43midx\u001b[49m\u001b[38;5;241;43m=\u001b[39;49m\u001b[43m_w\u001b[49m\u001b[43m(\u001b[49m\u001b[43ms\u001b[49m\u001b[43m,\u001b[49m\u001b[43m \u001b[49m\u001b[43midx\u001b[49m\u001b[43m)\u001b[49m\u001b[38;5;241;43m.\u001b[39;49m\u001b[43mend\u001b[49m\u001b[43m(\u001b[49m\u001b[43m)\u001b[49m\u001b[43m)\u001b[49m\n",
      "\u001b[1;31mJSONDecodeError\u001b[0m: Expecting value: line 1 column 1 (char 0)",
      "\nDuring handling of the above exception, another exception occurred:\n",
      "\u001b[1;31mJSONDecodeError\u001b[0m                           Traceback (most recent call last)",
      "Cell \u001b[1;32mIn[22], line 39\u001b[0m\n\u001b[0;32m     36\u001b[0m response \u001b[38;5;241m=\u001b[39m requests\u001b[38;5;241m.\u001b[39mget(base_wms_url, params\u001b[38;5;241m=\u001b[39mparams)\n\u001b[0;32m     38\u001b[0m \u001b[38;5;66;03m# Check if the response contains data\u001b[39;00m\n\u001b[1;32m---> 39\u001b[0m \u001b[38;5;28;01mif\u001b[39;00m response\u001b[38;5;241m.\u001b[39mstatus_code \u001b[38;5;241m==\u001b[39m \u001b[38;5;241m200\u001b[39m \u001b[38;5;129;01mand\u001b[39;00m \u001b[38;5;124m'\u001b[39m\u001b[38;5;124mfeatures\u001b[39m\u001b[38;5;124m'\u001b[39m \u001b[38;5;129;01min\u001b[39;00m \u001b[43mresponse\u001b[49m\u001b[38;5;241;43m.\u001b[39;49m\u001b[43mjson\u001b[49m\u001b[43m(\u001b[49m\u001b[43m)\u001b[49m:\n\u001b[0;32m     40\u001b[0m     \u001b[38;5;66;03m# If there's valid data, print the layer and exit the loop\u001b[39;00m\n\u001b[0;32m     41\u001b[0m     \u001b[38;5;28mprint\u001b[39m(\u001b[38;5;124mf\u001b[39m\u001b[38;5;124m\"\u001b[39m\u001b[38;5;124mLowest water level affecting bbox: \u001b[39m\u001b[38;5;132;01m{\u001b[39;00mlayer\u001b[38;5;132;01m}\u001b[39;00m\u001b[38;5;124m\"\u001b[39m)\n\u001b[0;32m     42\u001b[0m     \u001b[38;5;28;01mbreak\u001b[39;00m\n",
      "File \u001b[1;32mc:\\Python311\\Lib\\site-packages\\requests\\models.py:968\u001b[0m, in \u001b[0;36mResponse.json\u001b[1;34m(self, **kwargs)\u001b[0m\n\u001b[0;32m    966\u001b[0m             \u001b[38;5;28;01mpass\u001b[39;00m\n\u001b[0;32m    967\u001b[0m         \u001b[38;5;28;01mexcept\u001b[39;00m JSONDecodeError \u001b[38;5;28;01mas\u001b[39;00m e:\n\u001b[1;32m--> 968\u001b[0m             \u001b[38;5;28;01mraise\u001b[39;00m RequestsJSONDecodeError(e\u001b[38;5;241m.\u001b[39mmsg, e\u001b[38;5;241m.\u001b[39mdoc, e\u001b[38;5;241m.\u001b[39mpos)\n\u001b[0;32m    970\u001b[0m \u001b[38;5;28;01mtry\u001b[39;00m:\n\u001b[0;32m    971\u001b[0m     \u001b[38;5;28;01mreturn\u001b[39;00m complexjson\u001b[38;5;241m.\u001b[39mloads(\u001b[38;5;28mself\u001b[39m\u001b[38;5;241m.\u001b[39mtext, \u001b[38;5;241m*\u001b[39m\u001b[38;5;241m*\u001b[39mkwargs)\n",
      "\u001b[1;31mJSONDecodeError\u001b[0m: Expecting value: line 1 column 1 (char 0)"
     ]
    }
   ],
   "source": [
    "import requests\n",
    "\n",
    "# Define bounding box coordinates (replace with your values)\n",
    "bbox = [12.523999, 55.689685, 12.533999, 55.699685]  # Example bbox coordinates\n",
    "base_wms_url = 'https://api.dataforsyningen.dk/dhm?'\n",
    "\n",
    "# Water level layers to check (only showing a few for brevity)\n",
    "layers = [\n",
    "    'havvandpaaland_0', 'havvandpaaland_0_1', 'havvandpaaland_0_2', 'havvandpaaland_0_3', \n",
    "    'havvandpaaland_0_4', 'havvandpaaland_0_5', 'havvandpaaland_0_6', 'havvandpaaland_1'\n",
    "    # Continue with all layers\n",
    "]\n",
    "\n",
    "# Loop through the layers\n",
    "for layer in layers:\n",
    "    params = {\n",
    "        'service': 'WMS',\n",
    "        'request': 'GetFeatureInfo',\n",
    "        'version': '1.1.1',\n",
    "        'layers': 'dhm_havvandpaaland',\n",
    "        'query_layers': layer,\n",
    "        'bbox': f'{bbox[0]},{bbox[1]},{bbox[2]},{bbox[3]}',  # Set bounding box\n",
    "        'width': '256',\n",
    "        'height': '256',\n",
    "        'x': '128',  # Set the X/Y point in the bbox\n",
    "        'y': '128',\n",
    "        'srs': 'EPSG:4326',\n",
    "        'format': 'image/png',\n",
    "        'info_format': 'application/json',\n",
    "        'i': '50',  # Pixel position for GetFeatureInfo query\n",
    "        'j': '50',\n",
    "        'token': '30494b8c7d48e71467a3bca51afaf457'  # Example token\n",
    "    }\n",
    "    \n",
    "    # Make the WMS request\n",
    "    response = requests.get(base_wms_url, params=params)\n",
    "    \n",
    "    # Check if the response contains data\n",
    "    if response.status_code == 200 and 'features' in response.json():\n",
    "        # If there's valid data, print the layer and exit the loop\n",
    "        print(f\"Lowest water level affecting bbox: {layer}\")\n",
    "        break\n",
    "    else:\n",
    "        print(f\"Layer {layer} does not affect the bbox.\")\n",
    "\n"
   ]
  },
  {
   "cell_type": "code",
   "execution_count": null,
   "metadata": {},
   "outputs": [],
   "source": [
    "import requests\n",
    "\n",
    "# Function to fetch sewer and water level data for a given location\n",
    "def fetch_location_data(coordinates):\n",
    "    kloakopland_info = fetch_kloakopland_info(coordinates)\n",
    "    havvand_info = fetch_havvandpaaland_info(coordinates)\n",
    "    \n",
    "    # Process the results and return structured data\n",
    "    return {\n",
    "        \"coordinates\": coordinates,\n",
    "        \"kloakopland\": kloakopland_info,\n",
    "        \"havvandpaaland\": havvand_info\n",
    "    }\n",
    "\n",
    "# Example of processing multiple locations\n",
    "locations = [(12.588170, 55.674234), (12.523999, 55.689685)]\n",
    "results = [fetch_location_data(loc) for loc in locations]\n",
    "\n",
    "# Example output\n",
    "for result in results:\n",
    "    print(f\"Location: {result['coordinates']}\")\n",
    "    print(f\"Kloakopland: {result['kloakopland']}\")\n",
    "    print(f\"Havvand på land: {result['havvandpaaland']}\")\n"
   ]
  },
  {
   "cell_type": "code",
   "execution_count": null,
   "metadata": {},
   "outputs": [],
   "source": []
  }
 ],
 "metadata": {
  "kernelspec": {
   "display_name": "Python 3",
   "language": "python",
   "name": "python3"
  },
  "language_info": {
   "codemirror_mode": {
    "name": "ipython",
    "version": 3
   },
   "file_extension": ".py",
   "mimetype": "text/x-python",
   "name": "python",
   "nbconvert_exporter": "python",
   "pygments_lexer": "ipython3",
   "version": "3.11.4"
  }
 },
 "nbformat": 4,
 "nbformat_minor": 2
}
