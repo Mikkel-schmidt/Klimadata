{
 "cells": [
  {
   "cell_type": "code",
   "execution_count": 1,
   "metadata": {},
   "outputs": [],
   "source": [
    "import folium\n",
    "import requests\n",
    "import json\n"
   ]
  },
  {
   "cell_type": "code",
   "execution_count": 4,
   "metadata": {},
   "outputs": [
    {
     "name": "stdout",
     "output_type": "stream",
     "text": [
      "Kommunen er: Fejl: 404\n"
     ]
    }
   ],
   "source": [
    "def find_kommune(lat, lon):\n",
    "    # DAWA API URL til Reverse Geokodning\n",
    "    url = f\"https://dawa.aws.dk/vejpunkter/reverse?x={lon}&y={lat}\"\n",
    "    \n",
    "    response = requests.get(url)\n",
    "    if response.status_code == 200:\n",
    "        data = response.json()\n",
    "        kommune = data.get('kommune', {}).get('navn', 'Ukendt')\n",
    "        return kommune\n",
    "    else:\n",
    "        return f\"Fejl: {response.status_code}\"\n",
    "\n",
    "# Eksempel på latitude og longitude\n",
    "latitude = 55.6761\n",
    "longitude = 12.5683\n",
    "\n",
    "kommune = find_kommune(latitude, longitude)\n",
    "print(f\"Kommunen er: {kommune}\")"
   ]
  },
  {
   "cell_type": "code",
   "execution_count": 3,
   "metadata": {},
   "outputs": [
    {
     "name": "stdout",
     "output_type": "stream",
     "text": [
      "Kommunen er: Fejl: 403\n"
     ]
    }
   ],
   "source": [
    "import requests\n",
    "\n",
    "def find_kommune_osm(lat, lon):\n",
    "    url = f\"https://nominatim.openstreetmap.org/reverse\"\n",
    "    params = {\n",
    "        'lat': lat,\n",
    "        'lon': lon,\n",
    "        'format': 'json',\n",
    "        'addressdetails': 1\n",
    "    }\n",
    "    response = requests.get(url, params=params)\n",
    "    if response.status_code == 200:\n",
    "        data = response.json()\n",
    "        kommune = data.get('address', {}).get('municipality', 'Ukendt')\n",
    "        return kommune\n",
    "    else:\n",
    "        return f\"Fejl: {response.status_code}\"\n",
    "\n",
    "# Eksempel på latitude og longitude\n",
    "latitude = 55.6761\n",
    "longitude = 12.5683\n",
    "\n",
    "kommune = find_kommune_osm(latitude, longitude)\n",
    "print(f\"Kommunen er: {kommune}\")\n"
   ]
  },
  {
   "cell_type": "code",
   "execution_count": null,
   "metadata": {},
   "outputs": [],
   "source": []
  }
 ],
 "metadata": {
  "kernelspec": {
   "display_name": "Python 3",
   "language": "python",
   "name": "python3"
  },
  "language_info": {
   "codemirror_mode": {
    "name": "ipython",
    "version": 3
   },
   "file_extension": ".py",
   "mimetype": "text/x-python",
   "name": "python",
   "nbconvert_exporter": "python",
   "pygments_lexer": "ipython3",
   "version": "3.11.9"
  }
 },
 "nbformat": 4,
 "nbformat_minor": 2
}
